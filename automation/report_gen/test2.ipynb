{
 "cells": [
  {
   "cell_type": "code",
   "execution_count": 121,
   "id": "initial_id",
   "metadata": {},
   "outputs": [],
   "source": [
    "import pandas as pd\n",
    "from typing import Callable, List, Any"
   ]
  },
  {
   "cell_type": "code",
   "execution_count": 122,
   "id": "ffb4a31965773983",
   "metadata": {
    "jupyter": {
     "is_executing": true
    }
   },
   "outputs": [],
   "source": [
    "test = pd.read_csv('../test.csv')"
   ]
  },
  {
   "cell_type": "code",
   "execution_count": 124,
   "id": "86d202d7-e1d5-4704-8ecc-870a01fc3f8f",
   "metadata": {},
   "outputs": [],
   "source": [
    "def get_teammates_average(df: pd.DataFrame, question: str):\n",
    "    def apply_helper(row, apply_df):\n",
    "        team_number, teammate_number = row['TeamName'], int(row['TeammateNumber'])\n",
    "        apply_df = apply_df.loc[\n",
    "            (apply_df['TeamName'] == team_number) & (apply_df['TeammateNumber'] != teammate_number),\n",
    "            f'{question}.{teammate_number}'\n",
    "        ]\n",
    "        with warnings.catch_warnings():\n",
    "            warnings.simplefilter(\"ignore\", category=RuntimeWarning)\n",
    "            return np.nanmean(apply_df)\n",
    "\n",
    "    return df.apply(apply_helper, axis=1, apply_df=df)"
   ]
  },
  {
   "cell_type": "code",
   "execution_count": 106,
   "id": "b7ef47fa560195a",
   "metadata": {},
   "outputs": [],
   "source": [
    "def get_response_by_teammate_number(df: pd.DataFrame, teammate_number: int, question: str):\n",
    "    if f'{question}.{teammate_number}' not in df.columns:\n",
    "        return df.loc[df['TeammateNumber'] == teammate_number, question]\n",
    "\n",
    "    team_sizes = df['TeamName'].value_counts()\n",
    "    emails = df['FullNameLast']\n",
    "    df = df.loc[df['TeammateNumber'] == teammate_number, df.columns.str.contains(f'^{question}|Team', regex=True)]\n",
    "\n",
    "    result = [[], []]\n",
    "    seen_indexes = set()\n",
    "    for index, row in df.iterrows():\n",
    "        team_size = team_sizes[row['TeamName']]\n",
    "\n",
    "\n",
    "        for i in range(1, team_size+1):\n",
    "            # if f'{question}.{i}' not in df.columns:\n",
    "            #     break\n",
    "            if index + i - teammate_number in seen_indexes:\n",
    "                print(index, i, teammate_number)\n",
    "            seen_indexes.add(index + i - teammate_number)\n",
    "            result[0].append(index + i - teammate_number)\n",
    "            result[1].append(row[f'{question}.{i}'])\n",
    "\n",
    "\n",
    "    result_series = pd.Series(result[1])\n",
    "    result_series.index = result[0]\n",
    "    result_df = result_series.to_frame()\n",
    "    # print(result_df.index.value_counts())\n",
    "    # print(result_df.loc[151, :])\n",
    "\n",
    "    result_df = result_df.join(emails).set_index('FullNameLast')\n",
    "\n",
    "    return result_df\n",
    "    \n",
    "    # return df.loc[:, f'{question}.{teammate_number}']"
   ]
  },
  {
   "cell_type": "code",
   "execution_count": 120,
   "id": "30854bb0-3063-4e41-9106-de9e6ff4e080",
   "metadata": {},
   "outputs": [
    {
     "name": "stdout",
     "output_type": "stream",
     "text": [
      "197\n",
      "197\n",
      "197\n",
      "197\n",
      "197\n",
      "197\n"
     ]
    }
   ],
   "source": [
    "team_size = max(test['TeammateNumber'].unique())\n",
    "for i in range(1, team_size+1):\n",
    "    test_one = ColumnBuilder(\n",
    "        'DidWell',\n",
    "        str(i),\n",
    "        get_response_by_teammate_number,\n",
    "        [i] + ['14']\n",
    "    )(test_one)\n",
    "\n",
    "    print(len(test_one))"
   ]
  },
  {
   "cell_type": "code",
   "execution_count": 109,
   "id": "f8f52dce-31f1-4b5e-8e48-7e10c3063209",
   "metadata": {},
   "outputs": [],
   "source": [
    "from ColumnBuilder import *"
   ]
  },
  {
   "cell_type": "code",
   "execution_count": 110,
   "id": "e7ea96cd-58b6-4642-9bcd-b06ac7d1ec79",
   "metadata": {},
   "outputs": [],
   "source": [
    "test_cb_one = ColumnBuilder('Improve', '3', get_response_by_teammate_number, ['1', '14'])"
   ]
  },
  {
   "cell_type": "code",
   "execution_count": 111,
   "id": "b2781e29-1b91-4ce5-985e-067460a1a55a",
   "metadata": {},
   "outputs": [],
   "source": [
    "test_one = test_cb_one(test)"
   ]
  },
  {
   "cell_type": "code",
   "execution_count": 112,
   "id": "8ad4cc7b-4b24-463c-95a4-52df0f3d395f",
   "metadata": {},
   "outputs": [
    {
     "data": {
      "text/plain": [
       "FullNameLast\n",
       "Ruiz, Daniel              1\n",
       "Blanset, Kyle             1\n",
       "Tran, Tam                 1\n",
       "Almaguer, Matteo          1\n",
       "Lee, Abraham              1\n",
       "                         ..\n",
       "Ho, Jenson                1\n",
       "Ferweda, Cameron          1\n",
       "Boecherer, Aaron          1\n",
       "Herrera, David Antonio    1\n",
       "Petty, Evan               1\n",
       "Name: count, Length: 197, dtype: int64"
      ]
     },
     "execution_count": 112,
     "metadata": {},
     "output_type": "execute_result"
    }
   ],
   "source": [
    "test_one['FullNameLast'].value_counts()"
   ]
  },
  {
   "cell_type": "code",
   "execution_count": 113,
   "id": "91b72109-da5b-49dc-a33c-b15668da4e22",
   "metadata": {},
   "outputs": [],
   "source": [
    "test_cb = PerMemberFunc('Improve', 'PerMember', None, ['14'])"
   ]
  },
  {
   "cell_type": "code",
   "execution_count": 114,
   "id": "22b715ee-c77f-4abd-b995-edf64e0e9593",
   "metadata": {},
   "outputs": [],
   "source": [
    "test_result = test_cb(test)"
   ]
  },
  {
   "cell_type": "code",
   "execution_count": 115,
   "id": "b0b79e3e-62f5-4131-b69b-2e66d8a6dbe0",
   "metadata": {},
   "outputs": [
    {
     "data": {
      "text/plain": [
       "0          Ruiz, Daniel\n",
       "1       Ortega, Xochitl\n",
       "2        Hassani, Shadi\n",
       "3        Chow, Michelle\n",
       "4        Peraza, Jazlyn\n",
       "             ...       \n",
       "192      Gotesky, James\n",
       "193     Feingold, Jacob\n",
       "194     Yamaguchi, Eric\n",
       "195    Libermann, Henry\n",
       "196         Petty, Evan\n",
       "Name: FullNameLast, Length: 197, dtype: object"
      ]
     },
     "execution_count": 115,
     "metadata": {},
     "output_type": "execute_result"
    }
   ],
   "source": [
    "test_result['FullNameLast']"
   ]
  }
 ],
 "metadata": {
  "kernelspec": {
   "display_name": "Python 3 (ipykernel)",
   "language": "python",
   "name": "python3"
  },
  "language_info": {
   "codemirror_mode": {
    "name": "ipython",
    "version": 3
   },
   "file_extension": ".py",
   "mimetype": "text/x-python",
   "name": "python",
   "nbconvert_exporter": "python",
   "pygments_lexer": "ipython3",
   "version": "3.11.9"
  }
 },
 "nbformat": 4,
 "nbformat_minor": 5
}
