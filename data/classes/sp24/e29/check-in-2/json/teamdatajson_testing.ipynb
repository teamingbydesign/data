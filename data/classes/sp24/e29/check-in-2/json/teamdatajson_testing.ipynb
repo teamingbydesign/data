{
 "cells": [
  {
   "cell_type": "markdown",
   "id": "0866ead4-5318-4e5c-bd2b-3ceaa407c68e",
   "metadata": {},
   "source": [
    "```javascript\n",
    "id: \"...\",\n",
    "    name: \"...\",\n",
    "    teamMembers: [\n",
    "      {\n",
    "        name: \"Anna Kuang\",\n",
    "        email: \"annakuang@berkeley.edu\",\n",
    "        difficulty: [\"Goal Setting\", \"Work Allocation\", \"Support\"],\n",
    "      },\n",
    "      {\n",
    "        name: \"Austin Marr\",\n",
    "        email: \"austinmarr@berkeley.edu\",\n",
    "        difficulty: [\"Team Role\", \"Enjoyment\", \"Team Communication\"],\n",
    "      },\n",
    "      {\n",
    "        name: \"Ankul Jayakar\",\n",
    "        email: \"ankuljayakar@berkeley.edu\",\n",
    "        difficulty: [\"Enjoyment\", \"Team Role\"],\n",
    "      },\n",
    "      {\n",
    "        name: \"Claire Hsu\",\n",
    "        email: \"clairehsu@berkeley.edu\",\n",
    "        difficulty: [\"Enjoyment\", \"Team Communication\", \"Team Role\"],\n",
    "      },\n",
    "    ],\n",
    "    teamDifficulty: [\n",
    "      {\n",
    "        name: \"Goal Setting\",\n",
    "        proportion: 15,\n",
    "      },\n",
    "      {\n",
    "        name: \"Team Role\",\n",
    "        proportion: 20,\n",
    "      },\n",
    "      {\n",
    "        name: \"Enjoyment\",\n",
    "        proportion: 10,\n",
    "      },\n",
    "      {\n",
    "        name: \"Team Communication\",\n",
    "        proportion: 30,\n",
    "      },\n",
    "      {\n",
    "        name: \"Work Allocation\",\n",
    "        proportion: 20,\n",
    "      },\n",
    "      {\n",
    "        name: \"Support\",\n",
    "        proportion: 5,\n",
    "      },\n",
    "    ],\n",
    "    teamScore: \"20/100\",\n",
    "   ```"
   ]
  },
  {
   "cell_type": "markdown",
   "id": "829a3397-47c6-42c4-837d-89a3dc5a53c5",
   "metadata": {},
   "source": [
    "team data = \n",
    "\n",
    "1. id\n",
    "    - name\n",
    "    - teamMembers (list)\n",
    "        - members.name\n",
    "        - members.email\n",
    "        - members.difficulty (list)\n",
    "    - teamDifficulty (list)\n",
    "        - teamDifficulty.name\n",
    "        - teamDifficulty.proportion\n",
    "    - teamScore"
   ]
  },
  {
   "cell_type": "code",
   "execution_count": 21,
   "id": "8415815d-7cb3-4e19-8895-224bcb35dbdd",
   "metadata": {},
   "outputs": [
    {
     "data": {
      "text/html": [
       "<div>\n",
       "<style scoped>\n",
       "    .dataframe tbody tr th:only-of-type {\n",
       "        vertical-align: middle;\n",
       "    }\n",
       "\n",
       "    .dataframe tbody tr th {\n",
       "        vertical-align: top;\n",
       "    }\n",
       "\n",
       "    .dataframe thead th {\n",
       "        text-align: right;\n",
       "    }\n",
       "</style>\n",
       "<table border=\"1\" class=\"dataframe\">\n",
       "  <thead>\n",
       "    <tr style=\"text-align: right;\">\n",
       "      <th></th>\n",
       "      <th>Unnamed: 0</th>\n",
       "      <th>TeamNumber</th>\n",
       "      <th>overallDiff</th>\n",
       "      <th>goalsDiff</th>\n",
       "      <th>supportDiff</th>\n",
       "      <th>communicateDiff</th>\n",
       "      <th>workAllocationDiff</th>\n",
       "      <th>teamRoleDiff</th>\n",
       "      <th>enjoyDiff</th>\n",
       "      <th>goalsPct</th>\n",
       "      <th>supportPct</th>\n",
       "      <th>communicatePct</th>\n",
       "      <th>workAllocationPct</th>\n",
       "      <th>teamRolePct</th>\n",
       "      <th>enjoyPct</th>\n",
       "      <th>percentile</th>\n",
       "      <th>topDifficulties</th>\n",
       "      <th>studentsWithDifficulties</th>\n",
       "      <th>Teammates</th>\n",
       "      <th>Emails</th>\n",
       "    </tr>\n",
       "  </thead>\n",
       "  <tbody>\n",
       "    <tr>\n",
       "      <th>0</th>\n",
       "      <td>0</td>\n",
       "      <td>1</td>\n",
       "      <td>-5.9</td>\n",
       "      <td>-0.8</td>\n",
       "      <td>-1.2</td>\n",
       "      <td>-0.9</td>\n",
       "      <td>-1.8</td>\n",
       "      <td>-0.3</td>\n",
       "      <td>-0.9</td>\n",
       "      <td>0.14</td>\n",
       "      <td>0.20</td>\n",
       "      <td>0.15</td>\n",
       "      <td>0.31</td>\n",
       "      <td>0.05</td>\n",
       "      <td>0.15</td>\n",
       "      <td>0.0</td>\n",
       "      <td>['support', 'workAllocation']</td>\n",
       "      <td>['support (Overall): Simran Kaur Khahira, -1.8...</td>\n",
       "      <td>['Allan Zhong', 'Edwin Lopez', 'Jerrick Wang',...</td>\n",
       "      <td>['allanzhong@berkeley.edu', 'eclopez19@berkele...</td>\n",
       "    </tr>\n",
       "    <tr>\n",
       "      <th>1</th>\n",
       "      <td>1</td>\n",
       "      <td>2</td>\n",
       "      <td>-2.2</td>\n",
       "      <td>-0.8</td>\n",
       "      <td>-0.3</td>\n",
       "      <td>-0.6</td>\n",
       "      <td>-0.3</td>\n",
       "      <td>-0.1</td>\n",
       "      <td>-0.1</td>\n",
       "      <td>0.36</td>\n",
       "      <td>0.14</td>\n",
       "      <td>0.27</td>\n",
       "      <td>0.14</td>\n",
       "      <td>0.05</td>\n",
       "      <td>0.05</td>\n",
       "      <td>28.0</td>\n",
       "      <td>[]</td>\n",
       "      <td>[]</td>\n",
       "      <td>['Ashley De Jesus', 'Ian Lind', 'Rohan Karra',...</td>\n",
       "      <td>['adejesus22@berkeley.edu', 'ianlind@berkeley....</td>\n",
       "    </tr>\n",
       "    <tr>\n",
       "      <th>2</th>\n",
       "      <td>2</td>\n",
       "      <td>3</td>\n",
       "      <td>-0.3</td>\n",
       "      <td>0.2</td>\n",
       "      <td>0.0</td>\n",
       "      <td>-0.1</td>\n",
       "      <td>-0.2</td>\n",
       "      <td>0.1</td>\n",
       "      <td>-0.3</td>\n",
       "      <td>0.00</td>\n",
       "      <td>0.00</td>\n",
       "      <td>0.17</td>\n",
       "      <td>0.33</td>\n",
       "      <td>0.00</td>\n",
       "      <td>0.50</td>\n",
       "      <td>47.0</td>\n",
       "      <td>['enjoy']</td>\n",
       "      <td>['enjoy: Rayme Aquino, -0.8']</td>\n",
       "      <td>['Jared Kazhe', 'Luz Torralba', 'Montek Sethi'...</td>\n",
       "      <td>['jaredkazhe@berkeley.edu', 'luztorralba@berke...</td>\n",
       "    </tr>\n",
       "  </tbody>\n",
       "</table>\n",
       "</div>"
      ],
      "text/plain": [
       "   Unnamed: 0  TeamNumber  overallDiff  goalsDiff  supportDiff  \\\n",
       "0           0           1         -5.9       -0.8         -1.2   \n",
       "1           1           2         -2.2       -0.8         -0.3   \n",
       "2           2           3         -0.3        0.2          0.0   \n",
       "\n",
       "   communicateDiff  workAllocationDiff  teamRoleDiff  enjoyDiff  goalsPct  \\\n",
       "0             -0.9                -1.8          -0.3       -0.9      0.14   \n",
       "1             -0.6                -0.3          -0.1       -0.1      0.36   \n",
       "2             -0.1                -0.2           0.1       -0.3      0.00   \n",
       "\n",
       "   supportPct  communicatePct  workAllocationPct  teamRolePct  enjoyPct  \\\n",
       "0        0.20            0.15               0.31         0.05      0.15   \n",
       "1        0.14            0.27               0.14         0.05      0.05   \n",
       "2        0.00            0.17               0.33         0.00      0.50   \n",
       "\n",
       "   percentile                topDifficulties  \\\n",
       "0         0.0  ['support', 'workAllocation']   \n",
       "1        28.0                             []   \n",
       "2        47.0                      ['enjoy']   \n",
       "\n",
       "                            studentsWithDifficulties  \\\n",
       "0  ['support (Overall): Simran Kaur Khahira, -1.8...   \n",
       "1                                                 []   \n",
       "2                      ['enjoy: Rayme Aquino, -0.8']   \n",
       "\n",
       "                                           Teammates  \\\n",
       "0  ['Allan Zhong', 'Edwin Lopez', 'Jerrick Wang',...   \n",
       "1  ['Ashley De Jesus', 'Ian Lind', 'Rohan Karra',...   \n",
       "2  ['Jared Kazhe', 'Luz Torralba', 'Montek Sethi'...   \n",
       "\n",
       "                                              Emails  \n",
       "0  ['allanzhong@berkeley.edu', 'eclopez19@berkele...  \n",
       "1  ['adejesus22@berkeley.edu', 'ianlind@berkeley....  \n",
       "2  ['jaredkazhe@berkeley.edu', 'luztorralba@berke...  "
      ]
     },
     "execution_count": 21,
     "metadata": {},
     "output_type": "execute_result"
    }
   ],
   "source": [
    "import pandas as pd\n",
    "data = pd.read_csv(\"E29_CHECKIN01_Faculty_Insights_v2.csv\")\n",
    "data.head(3)"
   ]
  },
  {
   "cell_type": "code",
   "execution_count": 22,
   "id": "365dcfd0-1ed4-49a8-a8eb-e21882a91f4e",
   "metadata": {},
   "outputs": [],
   "source": [
    "from scipy import stats\n",
    "import numpy as np"
   ]
  },
  {
   "cell_type": "code",
   "execution_count": 23,
   "id": "a6f531db-7556-4de5-9772-c3bffb660c19",
   "metadata": {},
   "outputs": [],
   "source": [
    "arr = np.array(data['overallDiff'])#.sort_values()"
   ]
  },
  {
   "cell_type": "code",
   "execution_count": 24,
   "id": "535d3ca4-044c-4a2e-9d2c-db9bd7fa42a1",
   "metadata": {},
   "outputs": [
    {
     "data": {
      "text/plain": [
       "array([-5.9, -2.2, -0.3,  3.5,  1.7,  1.2, -7.4,  3.8, -1.7,  2.1, -1.4,\n",
       "       -1.6,  0.7,  4.1, -0.4,  2.3, -0.9,  1.4,  3.9, -0. , -2.6, -1.6,\n",
       "        4. , -0. , -0.8, -2.4,  3.9,  1. ,  6.1,  6.2, -0.9, -2.3, -3.5,\n",
       "       -0.2, -1.8])"
      ]
     },
     "execution_count": 24,
     "metadata": {},
     "output_type": "execute_result"
    }
   ],
   "source": [
    "arr"
   ]
  },
  {
   "cell_type": "code",
   "execution_count": 25,
   "id": "b82c17d2-9c95-4463-965e-e46e0a1dc52c",
   "metadata": {},
   "outputs": [],
   "source": [
    "data[\"percentile\"] = [round(stats.percentileofscore(arr, x), 2) for x in arr]"
   ]
  },
  {
   "cell_type": "code",
   "execution_count": 26,
   "id": "d85ef327-63ea-4d2c-acc5-f6e8dfed5f2f",
   "metadata": {},
   "outputs": [],
   "source": [
    "data.to_csv(\"test_checkin1.csv\")"
   ]
  },
  {
   "cell_type": "markdown",
   "id": "96538e50-b4e6-4a80-b0b6-6ac8201f6a6a",
   "metadata": {},
   "source": [
    "## TODO\n",
    "\n",
    "- find out how to iterate through df to populate json file\n",
    "- difficulties are set on individual level -> should we iterate through the 'studentsWithDifficulties' column to populate this? we lose a sense of magnitude as a result, though\n",
    "- ask Cady how the team's top difficulties are populated\n"
   ]
  },
  {
   "cell_type": "code",
   "execution_count": 2,
   "id": "e9222dca-3536-43ba-9e90-5d4ff002dae8",
   "metadata": {},
   "outputs": [
    {
     "name": "stdout",
     "output_type": "stream",
     "text": [
      "{\n",
      "    \"id\": {},\n",
      "    \"name\": {},\n",
      "    \"department\": {}\n",
      "}\n"
     ]
    }
   ],
   "source": [
    "import json  \n",
    "     \n",
    "xxxxxx ={  \n",
    "  \"id\": {},  \n",
    "  \"name\": {},  \n",
    "  \"department\": {}\n",
    "}  \n",
    "     \n",
    "# Convert Python to JSON  \n",
    "json_object = json.dumps(xxxxxx, indent = 4) \n",
    "\n",
    "# Print JSON object\n",
    "print(json_object) "
   ]
  },
  {
   "cell_type": "code",
   "execution_count": null,
   "id": "8d30dc38-572c-4a45-b22f-29803405f809",
   "metadata": {},
   "outputs": [],
   "source": []
  }
 ],
 "metadata": {
  "kernelspec": {
   "display_name": "Python 3 (ipykernel)",
   "language": "python",
   "name": "python3"
  },
  "language_info": {
   "codemirror_mode": {
    "name": "ipython",
    "version": 3
   },
   "file_extension": ".py",
   "mimetype": "text/x-python",
   "name": "python",
   "nbconvert_exporter": "python",
   "pygments_lexer": "ipython3",
   "version": "3.9.12"
  }
 },
 "nbformat": 4,
 "nbformat_minor": 5
}
