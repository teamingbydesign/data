{
 "cells": [
  {
   "cell_type": "markdown",
   "id": "0866ead4-5318-4e5c-bd2b-3ceaa407c68e",
   "metadata": {},
   "source": [
    "```javascript\n",
    "id: \"...\",\n",
    "    name: \"...\",\n",
    "    teamMembers: [\n",
    "      {\n",
    "        name: \"Anna Kuang\",\n",
    "        email: \"annakuang@berkeley.edu\",\n",
    "        difficulty: [\"Goal Setting\", \"Work Allocation\", \"Support\"],\n",
    "      },\n",
    "      {\n",
    "        name: \"Austin Marr\",\n",
    "        email: \"austinmarr@berkeley.edu\",\n",
    "        difficulty: [\"Team Role\", \"Enjoyment\", \"Team Communication\"],\n",
    "      },\n",
    "      {\n",
    "        name: \"Ankul Jayakar\",\n",
    "        email: \"ankuljayakar@berkeley.edu\",\n",
    "        difficulty: [\"Enjoyment\", \"Team Role\"],\n",
    "      },\n",
    "      {\n",
    "        name: \"Claire Hsu\",\n",
    "        email: \"clairehsu@berkeley.edu\",\n",
    "        difficulty: [\"Enjoyment\", \"Team Communication\", \"Team Role\"],\n",
    "      },\n",
    "    ],\n",
    "    teamDifficulty: [\n",
    "      {\n",
    "        name: \"Goal Setting\",\n",
    "        proportion: 15,\n",
    "      },\n",
    "      {\n",
    "        name: \"Team Role\",\n",
    "        proportion: 20,\n",
    "      },\n",
    "      {\n",
    "        name: \"Enjoyment\",\n",
    "        proportion: 10,\n",
    "      },\n",
    "      {\n",
    "        name: \"Team Communication\",\n",
    "        proportion: 30,\n",
    "      },\n",
    "      {\n",
    "        name: \"Work Allocation\",\n",
    "        proportion: 20,\n",
    "      },\n",
    "      {\n",
    "        name: \"Support\",\n",
    "        proportion: 5,\n",
    "      },\n",
    "    ],\n",
    "    teamScore: \"20/100\",\n",
    "   ```"
   ]
  },
  {
   "cell_type": "markdown",
   "id": "829a3397-47c6-42c4-837d-89a3dc5a53c5",
   "metadata": {},
   "source": [
    "team data = \n",
    "\n",
    "1. id\n",
    "    - name\n",
    "    - teamMembers (list)\n",
    "        - members.name\n",
    "        - members.email\n",
    "        - members.difficulty (list)\n",
    "    - teamDifficulty (list)\n",
    "        - teamDifficulty.name\n",
    "        - teamDifficulty.proportion\n",
    "    - teamScore"
   ]
  },
  {
   "cell_type": "code",
   "execution_count": null,
   "id": "e9222dca-3536-43ba-9e90-5d4ff002dae8",
   "metadata": {},
   "outputs": [],
   "source": []
  }
 ],
 "metadata": {
  "kernelspec": {
   "display_name": "Python 3 (ipykernel)",
   "language": "python",
   "name": "python3"
  },
  "language_info": {
   "codemirror_mode": {
    "name": "ipython",
    "version": 3
   },
   "file_extension": ".py",
   "mimetype": "text/x-python",
   "name": "python",
   "nbconvert_exporter": "python",
   "pygments_lexer": "ipython3",
   "version": "3.9.12"
  }
 },
 "nbformat": 4,
 "nbformat_minor": 5
}
