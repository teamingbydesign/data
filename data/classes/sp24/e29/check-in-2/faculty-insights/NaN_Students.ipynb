{
 "cells": [
  {
   "cell_type": "code",
   "execution_count": 4,
   "id": "15edd611-ec1f-4c00-8a04-05f9282345eb",
   "metadata": {},
   "outputs": [],
   "source": [
    "import pandas as pd\n",
    "d = pd.read_csv(\"E29_CHECKIN2_MACROANALYSIS_V1.csv\")\n",
    "raw = pd.read_csv(\"E29_PRECLEAN_CHECKIN02_RAW_TEXT.csv\")"
   ]
  },
  {
   "cell_type": "code",
   "execution_count": 6,
   "id": "79fcfb39-bc03-45db-a4f8-de620c847b15",
   "metadata": {},
   "outputs": [],
   "source": [
    "possible_nan_df = d[d[\"Our team is clear about the shared goals for our work together\"].isna()][[\"FullName\", \"Email\", \"TeamNumber\"]]"
   ]
  },
  {
   "cell_type": "code",
   "execution_count": 10,
   "id": "ee8dfec1-3381-4864-a2f5-2f0f9a03c6d3",
   "metadata": {},
   "outputs": [],
   "source": [
    "possible_nan_df = possible_nan_df.reset_index(drop=True)"
   ]
  },
  {
   "cell_type": "code",
   "execution_count": 13,
   "id": "1c4c8f2d-6089-4514-a159-3d950d07cfef",
   "metadata": {},
   "outputs": [
    {
     "data": {
      "text/plain": [
       "Index(['Unnamed: 0', 'StartDate', 'EndDate', 'Status', 'IPAddress', 'Progress',\n",
       "       'Duration (in seconds)', 'Finished', 'RecordedDate', 'ResponseId',\n",
       "       'RecipientLastName', 'RecipientFirstName', 'RecipientEmail',\n",
       "       'ExternalReference', 'LocationLatitude', 'LocationLongitude',\n",
       "       'DistributionChannel', 'UserLanguage', 'Q33', 'Q57', 'Q2_1', 'Q2_2',\n",
       "       'Q2_3', 'Q3', 'Q4_1', 'Q4_2', 'Q4_3', 'Q4_4', 'Q5_1', 'Q5_2', 'Q5_3',\n",
       "       'Q5_4', 'Q6', 'Q7', 'Q38_1', 'Q38_2', 'Q38_3', 'Q14_1', 'Q14_2',\n",
       "       'Q14_3', 'Q14_4', 'Q15_1', 'Q15_2', 'Q15_3', 'Q15_4', 'Q16_1', 'Q16_2',\n",
       "       'Q16_3', 'Q16_4', 'Q17_1', 'Q17_2', 'Q17_3', 'Q17_4', 'Q18_1', 'Q18_2',\n",
       "       'Q18_3', 'Q18_4', 'Q19_1', 'Q19_2', 'Q19_3', 'Q19_4'],\n",
       "      dtype='object')"
      ]
     },
     "execution_count": 13,
     "metadata": {},
     "output_type": "execute_result"
    }
   ],
   "source": [
    "raw.columns"
   ]
  },
  {
   "cell_type": "code",
   "execution_count": 14,
   "id": "16cccbac-ed1f-4018-85ac-6ba3574e44be",
   "metadata": {},
   "outputs": [
    {
     "data": {
      "text/plain": [
       "[False,\n",
       " False,\n",
       " False,\n",
       " False,\n",
       " False,\n",
       " False,\n",
       " False,\n",
       " False,\n",
       " False,\n",
       " False,\n",
       " False,\n",
       " False,\n",
       " False,\n",
       " False,\n",
       " False,\n",
       " False,\n",
       " False,\n",
       " False,\n",
       " False]"
      ]
     },
     "execution_count": 14,
     "metadata": {},
     "output_type": "execute_result"
    }
   ],
   "source": [
    "[email in raw[\"RecipientEmail\"] for email in possible_nan_df[\"Email\"]]"
   ]
  },
  {
   "cell_type": "code",
   "execution_count": 15,
   "id": "9e5341f9-c1f7-4825-9a67-514f764a6f9b",
   "metadata": {},
   "outputs": [
    {
     "data": {
      "text/html": [
       "<div>\n",
       "<style scoped>\n",
       "    .dataframe tbody tr th:only-of-type {\n",
       "        vertical-align: middle;\n",
       "    }\n",
       "\n",
       "    .dataframe tbody tr th {\n",
       "        vertical-align: top;\n",
       "    }\n",
       "\n",
       "    .dataframe thead th {\n",
       "        text-align: right;\n",
       "    }\n",
       "</style>\n",
       "<table border=\"1\" class=\"dataframe\">\n",
       "  <thead>\n",
       "    <tr style=\"text-align: right;\">\n",
       "      <th></th>\n",
       "      <th>FullName</th>\n",
       "      <th>Email</th>\n",
       "      <th>TeamNumber</th>\n",
       "    </tr>\n",
       "  </thead>\n",
       "  <tbody>\n",
       "    <tr>\n",
       "      <th>0</th>\n",
       "      <td>Edwin Lopez</td>\n",
       "      <td>eclopez19@berkeley.edu</td>\n",
       "      <td>1.0</td>\n",
       "    </tr>\n",
       "    <tr>\n",
       "      <th>1</th>\n",
       "      <td>Warren Kuang</td>\n",
       "      <td>warrenkuang@berkeley.edu</td>\n",
       "      <td>4.0</td>\n",
       "    </tr>\n",
       "    <tr>\n",
       "      <th>2</th>\n",
       "      <td>Allan Ramirez</td>\n",
       "      <td>allan.sram16@berkeley.edu</td>\n",
       "      <td>9.0</td>\n",
       "    </tr>\n",
       "    <tr>\n",
       "      <th>3</th>\n",
       "      <td>Ramiro Contreras</td>\n",
       "      <td>ramiro@berkeley.edu</td>\n",
       "      <td>13.0</td>\n",
       "    </tr>\n",
       "    <tr>\n",
       "      <th>4</th>\n",
       "      <td>Khaled Wazzan</td>\n",
       "      <td>khaled.wazzan@berkeley.edu</td>\n",
       "      <td>14.0</td>\n",
       "    </tr>\n",
       "    <tr>\n",
       "      <th>5</th>\n",
       "      <td>Matthew Hong</td>\n",
       "      <td>kisur2001@berkeley.edu</td>\n",
       "      <td>14.0</td>\n",
       "    </tr>\n",
       "    <tr>\n",
       "      <th>6</th>\n",
       "      <td>Matthew Amaro</td>\n",
       "      <td>matthew_amaro@berkeley.edu</td>\n",
       "      <td>15.0</td>\n",
       "    </tr>\n",
       "    <tr>\n",
       "      <th>7</th>\n",
       "      <td>Megan Ho</td>\n",
       "      <td>meganho@berkeley.edu</td>\n",
       "      <td>16.0</td>\n",
       "    </tr>\n",
       "    <tr>\n",
       "      <th>8</th>\n",
       "      <td>Dylan Nokleby</td>\n",
       "      <td>dylannokleby@berkeley.edu</td>\n",
       "      <td>17.0</td>\n",
       "    </tr>\n",
       "    <tr>\n",
       "      <th>9</th>\n",
       "      <td>Carlos Avina</td>\n",
       "      <td>cavina1129@berkeley.edu</td>\n",
       "      <td>18.0</td>\n",
       "    </tr>\n",
       "    <tr>\n",
       "      <th>10</th>\n",
       "      <td>Julian Bourret</td>\n",
       "      <td>jbourret@berkeley.edu</td>\n",
       "      <td>19.0</td>\n",
       "    </tr>\n",
       "    <tr>\n",
       "      <th>11</th>\n",
       "      <td>Jaden Nguyen</td>\n",
       "      <td>jadennguyen@berkeley.edu</td>\n",
       "      <td>21.0</td>\n",
       "    </tr>\n",
       "    <tr>\n",
       "      <th>12</th>\n",
       "      <td>Akshat Kumar</td>\n",
       "      <td>akshat.kumar@berkeley.edu</td>\n",
       "      <td>24.0</td>\n",
       "    </tr>\n",
       "    <tr>\n",
       "      <th>13</th>\n",
       "      <td>Saketh Somayajula</td>\n",
       "      <td>saketh.somayajula@berkeley.edu</td>\n",
       "      <td>24.0</td>\n",
       "    </tr>\n",
       "    <tr>\n",
       "      <th>14</th>\n",
       "      <td>Annie Chen</td>\n",
       "      <td>anniec@berkeley.edu</td>\n",
       "      <td>30.0</td>\n",
       "    </tr>\n",
       "    <tr>\n",
       "      <th>15</th>\n",
       "      <td>Kevin Yi</td>\n",
       "      <td>0000817108berkeley@berkeley.edu</td>\n",
       "      <td>30.0</td>\n",
       "    </tr>\n",
       "    <tr>\n",
       "      <th>16</th>\n",
       "      <td>Larry Bermudez</td>\n",
       "      <td>larrybermudez.10@berkeley.edu</td>\n",
       "      <td>33.0</td>\n",
       "    </tr>\n",
       "    <tr>\n",
       "      <th>17</th>\n",
       "      <td>Elina Morishita</td>\n",
       "      <td>elinamorishita@berkeley.edu</td>\n",
       "      <td>34.0</td>\n",
       "    </tr>\n",
       "    <tr>\n",
       "      <th>18</th>\n",
       "      <td>Joshua Leavitt</td>\n",
       "      <td>joshua.leavitt@berkeley.edu</td>\n",
       "      <td>34.0</td>\n",
       "    </tr>\n",
       "  </tbody>\n",
       "</table>\n",
       "</div>"
      ],
      "text/plain": [
       "             FullName                            Email  TeamNumber\n",
       "0         Edwin Lopez           eclopez19@berkeley.edu         1.0\n",
       "1        Warren Kuang         warrenkuang@berkeley.edu         4.0\n",
       "2       Allan Ramirez        allan.sram16@berkeley.edu         9.0\n",
       "3    Ramiro Contreras              ramiro@berkeley.edu        13.0\n",
       "4       Khaled Wazzan       khaled.wazzan@berkeley.edu        14.0\n",
       "5        Matthew Hong           kisur2001@berkeley.edu        14.0\n",
       "6       Matthew Amaro       matthew_amaro@berkeley.edu        15.0\n",
       "7            Megan Ho             meganho@berkeley.edu        16.0\n",
       "8       Dylan Nokleby        dylannokleby@berkeley.edu        17.0\n",
       "9        Carlos Avina          cavina1129@berkeley.edu        18.0\n",
       "10     Julian Bourret            jbourret@berkeley.edu        19.0\n",
       "11       Jaden Nguyen         jadennguyen@berkeley.edu        21.0\n",
       "12       Akshat Kumar        akshat.kumar@berkeley.edu        24.0\n",
       "13  Saketh Somayajula   saketh.somayajula@berkeley.edu        24.0\n",
       "14         Annie Chen              anniec@berkeley.edu        30.0\n",
       "15           Kevin Yi  0000817108berkeley@berkeley.edu        30.0\n",
       "16     Larry Bermudez    larrybermudez.10@berkeley.edu        33.0\n",
       "17    Elina Morishita      elinamorishita@berkeley.edu        34.0\n",
       "18     Joshua Leavitt      joshua.leavitt@berkeley.edu        34.0"
      ]
     },
     "execution_count": 15,
     "metadata": {},
     "output_type": "execute_result"
    }
   ],
   "source": [
    "possible_nan_df"
   ]
  },
  {
   "cell_type": "code",
   "execution_count": null,
   "id": "6f264c85-893f-479a-bffb-18d90e576ffd",
   "metadata": {},
   "outputs": [],
   "source": []
  }
 ],
 "metadata": {
  "kernelspec": {
   "display_name": "Python 3 (ipykernel)",
   "language": "python",
   "name": "python3"
  },
  "language_info": {
   "codemirror_mode": {
    "name": "ipython",
    "version": 3
   },
   "file_extension": ".py",
   "mimetype": "text/x-python",
   "name": "python",
   "nbconvert_exporter": "python",
   "pygments_lexer": "ipython3",
   "version": "3.9.12"
  }
 },
 "nbformat": 4,
 "nbformat_minor": 5
}
